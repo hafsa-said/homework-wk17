{
 "cells": [
  {
   "cell_type": "markdown",
   "metadata": {},
   "source": [
    "# Q.1.\n",
    "What is inductive reasoning? Deductive reasoning? Give an example of each, different from the examples given in class."
   ]
  },
  {
   "cell_type": "markdown",
   "metadata": {},
   "source": [
    "Inductive Reasoning is a form of propositional logic. It is a logical process, wherein numerous premises are combined to get a specific result. Also known as cause-effect and bottom-up reasoning, inductive reasoning uses limited sets of data and facts to reach a conclusion, through the process of generalization. In short, it initiates the process of reasoning with a series of specific data and then arrives at a general conclusion. It is distinguished from deductive reasoning insofar as the truth or falsity of the uncertain proposition is not logically determined by what is known. Deductive Reasoning is the strategic approach that uses available facts, information or knowledge to draw valid conclusions. It basically beliefs in the facts and ideas before drawing any result. Deductive reasoning uses a top-down approach. In deductive reasoning, the arguments can be valid or invalid based on the value of the premises. If the value of the premises is true, then the conclusion is also true.\n",
    "\n",
    "Inductive Reasoning: I always get allergies in the summer, I must be allergic to summer.\n",
    "Deductive Reasoning: If all spiders have eight legs, and tarantulas are spiders, they must have eight legs."
   ]
  },
  {
   "cell_type": "markdown",
   "metadata": {},
   "source": [
    "# Q. 2.\n",
    "Preprocess your dataset. Indicate which steps worked and which didn’t. Include your thoughts on why certain steps worked and certain steps didn’t.  "
   ]
  },
  {
   "cell_type": "code",
   "execution_count": 24,
   "metadata": {},
   "outputs": [],
   "source": [
    "import numpy as np\n",
    "import pandas as pd\n",
    "import seaborn as sns\n",
    "import matplotlib.pyplot as plt\n",
    "\n",
    "from sklearn.preprocessing import StandardScaler\n",
    "from sklearn.model_selection import train_test_split\n",
    "from sklearn.linear_model import LinearRegression\n",
    "from sklearn.feature_selection import RFE\n",
    "from sklearn.linear_model import LogisticRegression\n",
    "from statsmodels.formula.api import ols, logit\n",
    "from sklearn.pipeline import Pipeline\n",
    "from sklearn.impute import SimpleImputer\n",
    "\n",
    "from sklearn.ensemble import RandomForestRegressor, RandomForestClassifier, IsolationForest\n",
    "from xgboost import XGBRegressor\n",
    "from sklearn.tree import DecisionTreeRegressor\n",
    "\n",
    "from sklearn.metrics import mean_squared_error\n",
    "from sklearn.metrics import r2_score\n",
    "from sklearn.preprocessing import PolynomialFeatures\n",
    "from sklearn.model_selection import GridSearchCV\n",
    "from sklearn.metrics import confusion_matrix, plot_confusion_matrix, classification_report\n",
    "from statsmodels.graphics.mosaicplot import mosaic"
   ]
  },
  {
   "cell_type": "code",
   "execution_count": 4,
   "metadata": {},
   "outputs": [
    {
     "data": {
      "text/html": [
       "<div>\n",
       "<style scoped>\n",
       "    .dataframe tbody tr th:only-of-type {\n",
       "        vertical-align: middle;\n",
       "    }\n",
       "\n",
       "    .dataframe tbody tr th {\n",
       "        vertical-align: top;\n",
       "    }\n",
       "\n",
       "    .dataframe thead th {\n",
       "        text-align: right;\n",
       "    }\n",
       "</style>\n",
       "<table border=\"1\" class=\"dataframe\">\n",
       "  <thead>\n",
       "    <tr style=\"text-align: right;\">\n",
       "      <th></th>\n",
       "      <th>Sex</th>\n",
       "      <th>Length</th>\n",
       "      <th>Diameter</th>\n",
       "      <th>Height</th>\n",
       "      <th>Whole weight</th>\n",
       "      <th>Shucked weight</th>\n",
       "      <th>Viscera weight</th>\n",
       "      <th>Shell weight</th>\n",
       "      <th>Rings</th>\n",
       "    </tr>\n",
       "  </thead>\n",
       "  <tbody>\n",
       "    <tr>\n",
       "      <th>0</th>\n",
       "      <td>M</td>\n",
       "      <td>0.455</td>\n",
       "      <td>0.365</td>\n",
       "      <td>0.095</td>\n",
       "      <td>0.5140</td>\n",
       "      <td>0.2245</td>\n",
       "      <td>0.1010</td>\n",
       "      <td>0.150</td>\n",
       "      <td>15</td>\n",
       "    </tr>\n",
       "    <tr>\n",
       "      <th>1</th>\n",
       "      <td>M</td>\n",
       "      <td>0.350</td>\n",
       "      <td>0.265</td>\n",
       "      <td>0.090</td>\n",
       "      <td>0.2255</td>\n",
       "      <td>0.0995</td>\n",
       "      <td>0.0485</td>\n",
       "      <td>0.070</td>\n",
       "      <td>7</td>\n",
       "    </tr>\n",
       "    <tr>\n",
       "      <th>2</th>\n",
       "      <td>F</td>\n",
       "      <td>0.530</td>\n",
       "      <td>0.420</td>\n",
       "      <td>0.135</td>\n",
       "      <td>0.6770</td>\n",
       "      <td>0.2565</td>\n",
       "      <td>0.1415</td>\n",
       "      <td>0.210</td>\n",
       "      <td>9</td>\n",
       "    </tr>\n",
       "    <tr>\n",
       "      <th>3</th>\n",
       "      <td>M</td>\n",
       "      <td>0.440</td>\n",
       "      <td>0.365</td>\n",
       "      <td>0.125</td>\n",
       "      <td>0.5160</td>\n",
       "      <td>0.2155</td>\n",
       "      <td>0.1140</td>\n",
       "      <td>0.155</td>\n",
       "      <td>10</td>\n",
       "    </tr>\n",
       "    <tr>\n",
       "      <th>4</th>\n",
       "      <td>I</td>\n",
       "      <td>0.330</td>\n",
       "      <td>0.255</td>\n",
       "      <td>0.080</td>\n",
       "      <td>0.2050</td>\n",
       "      <td>0.0895</td>\n",
       "      <td>0.0395</td>\n",
       "      <td>0.055</td>\n",
       "      <td>7</td>\n",
       "    </tr>\n",
       "  </tbody>\n",
       "</table>\n",
       "</div>"
      ],
      "text/plain": [
       "  Sex  Length  Diameter  Height  Whole weight  Shucked weight  Viscera weight  \\\n",
       "0   M   0.455     0.365   0.095        0.5140          0.2245          0.1010   \n",
       "1   M   0.350     0.265   0.090        0.2255          0.0995          0.0485   \n",
       "2   F   0.530     0.420   0.135        0.6770          0.2565          0.1415   \n",
       "3   M   0.440     0.365   0.125        0.5160          0.2155          0.1140   \n",
       "4   I   0.330     0.255   0.080        0.2050          0.0895          0.0395   \n",
       "\n",
       "   Shell weight  Rings  \n",
       "0         0.150     15  \n",
       "1         0.070      7  \n",
       "2         0.210      9  \n",
       "3         0.155     10  \n",
       "4         0.055      7  "
      ]
     },
     "execution_count": 4,
     "metadata": {},
     "output_type": "execute_result"
    }
   ],
   "source": [
    "#create and examine dataframe, add headings to make sure the data is easy to understand from attribute information column\n",
    "abalone_df = pd.read_csv(\"../dataset/abalone.data\",  header=None, names=['Sex',\n",
    "                                                            'Length',\n",
    "                                                            'Diameter',\n",
    "                                                            'Height',\n",
    "                                                            'Whole weight',\n",
    "                                                            'Shucked weight',\n",
    "                                                            'Viscera weight',\n",
    "                                                            'Shell weight',\n",
    "                                                            'Rings',])\n",
    "abalone_df.head()"
   ]
  },
  {
   "cell_type": "code",
   "execution_count": 7,
   "metadata": {},
   "outputs": [
    {
     "name": "stdout",
     "output_type": "stream",
     "text": [
      "Sex               0\n",
      "Length            0\n",
      "Diameter          0\n",
      "Height            0\n",
      "Whole weight      0\n",
      "Shucked weight    0\n",
      "Viscera weight    0\n",
      "Shell weight      0\n",
      "Rings             0\n",
      "dtype: int64\n",
      "Sex                object\n",
      "Length            float64\n",
      "Diameter          float64\n",
      "Height            float64\n",
      "Whole weight      float64\n",
      "Shucked weight    float64\n",
      "Viscera weight    float64\n",
      "Shell weight      float64\n",
      "Rings               int64\n",
      "dtype: object\n",
      "Length             0.014422\n",
      "Diameter           0.009849\n",
      "Height             0.001750\n",
      "Whole weight       0.240481\n",
      "Shucked weight     0.049268\n",
      "Viscera weight     0.012015\n",
      "Shell weight       0.019377\n",
      "Rings             10.395266\n",
      "dtype: float64\n"
     ]
    }
   ],
   "source": [
    "#find number of NaNs in data\n",
    "print(abalone_df.isnull().sum().sort_values())\n",
    "#find data types\n",
    "print(abalone_df.dtypes)\n",
    "#find data variance\n",
    "print(abalone_df.var(numeric_only=True))"
   ]
  },
  {
   "cell_type": "code",
   "execution_count": 8,
   "metadata": {},
   "outputs": [],
   "source": [
    "# Sex is a non numerical categorical data with 3 values\n",
    "# using get dummies to convert categorical data\n",
    "abalone_df = pd.get_dummies(abalone_df,prefix=[\"Sex\"], columns = [\"Sex\"], drop_first=True)"
   ]
  },
  {
   "cell_type": "code",
   "execution_count": 11,
   "metadata": {},
   "outputs": [
    {
     "data": {
      "image/png": "[encoded data removed]",
      "text/plain": [
       "<Figure size 864x576 with 1 Axes>"
      ]
     },
     "metadata": {},
     "output_type": "display_data"
    }
   ],
   "source": [
    "# plotting the heatmap\n",
    "correlation = abalone_df.corr()\n",
    "g = sns.heatmap(correlation, annot=True, linewidth=0, cmap=\"Blues\",cbar=False)\n",
    "g.set_xticklabels(g.get_xticklabels(), rotation = 0, fontsize = 12)\n",
    "g.set_title('Feature Correlation of Abalone Data',size=14, weight='bold')\n",
    "sns.set(rc={'figure.figsize':(14,14)})"
   ]
  },
  {
   "cell_type": "code",
   "execution_count": 22,
   "metadata": {},
   "outputs": [
    {
     "name": "stdout",
     "output_type": "stream",
     "text": [
      "(2923, 7) (2923,)\n"
     ]
    }
   ],
   "source": [
    "X = abalone_df[['Length', 'Diameter', 'Height', 'Whole weight', 'Shucked weight', 'Viscera weight', 'Shell weight']]\n",
    "y = abalone_df['Rings']\n",
    "\n",
    "#train-test split\n",
    "X_train, X_test, y_train, y_test = train_test_split(X, y,test_size=0.3 ,random_state=24)\n",
    "\n",
    "# Examine shape of the training dataset:\n",
    "print(X_train.shape, y_train.shape)\n"
   ]
  },
  {
   "cell_type": "code",
   "execution_count": 27,
   "metadata": {},
   "outputs": [
    {
     "name": "stdout",
     "output_type": "stream",
     "text": [
      "MSE = 0.6976276714513556\n",
      "RMSE = 0.8352410858257366\n"
     ]
    }
   ],
   "source": [
    "rf = RandomForestRegressor()\n",
    "rf.fit(X,y)\n",
    "\n",
    "# Baseline performance:\n",
    "y_pred = rf.predict(X_test)\n",
    "\n",
    "# Report:\n",
    "mse = mean_squared_error(y_test, y_pred)\n",
    "rms = mse**(1/2)\n",
    "\n",
    "print(\"MSE = \"+str(mse))\n",
    "print(\"RMSE = \"+str(rms))\n"
   ]
  },
  {
   "cell_type": "markdown",
   "metadata": {},
   "source": [
    "The model is not as close to the values as we were hoping for, this could be due to strong multicollinearity between the parameters. For this reason, we also dont need to do feature selection. "
   ]
  },
  {
   "cell_type": "markdown",
   "metadata": {},
   "source": [
    "# Q. 3.\n",
    "Create a decision tree model tuned to the best of your abilities. Explain how you tuned it. "
   ]
  },
  {
   "cell_type": "code",
   "execution_count": 28,
   "metadata": {},
   "outputs": [
    {
     "name": "stdout",
     "output_type": "stream",
     "text": [
      "MSE = 8.817384370015949\n",
      "RMSE = 2.96940808411642\n"
     ]
    }
   ],
   "source": [
    "# Instantiate the classifier and fit it to my dataset:\n",
    "tree = DecisionTreeRegressor(random_state=24)\n",
    "\n",
    "# Create the model and get predicted values:\n",
    "tree = tree.fit(X_train, y_train)\n",
    "y_pred = tree.predict(X_test)\n",
    "\n",
    "# Report:\n",
    "mset = mean_squared_error(y_test, y_pred)\n",
    "rmst = mset**(1/2)\n",
    "\n",
    "print(\"MSE = \"+str(mset))\n",
    "print(\"RMSE = \"+str(rmst))"
   ]
  },
  {
   "cell_type": "code",
   "execution_count": 29,
   "metadata": {},
   "outputs": [
    {
     "data": {
      "text/plain": [
       "GridSearchCV(cv=5, estimator=DecisionTreeRegressor(random_state=24),\n",
       "             param_grid={'max_features': [2, 4, 6, 7],\n",
       "                         'min_samples_leaf': [0.12, 0.18, 0.2, 0.26]},\n",
       "             scoring='neg_mean_squared_error')"
      ]
     },
     "execution_count": 29,
     "metadata": {},
     "output_type": "execute_result"
    }
   ],
   "source": [
    "# GridSearch Cross Validation to tune few hyperparameters on mean squared error scoring to get the best score\n",
    "param_grid = {'max_features': [2, 4, 6, 7], 'min_samples_leaf':[0.12, 0.18, 0.2, 0.26]}\n",
    "\n",
    "dt = DecisionTreeRegressor(criterion=\"squared_error\", random_state = 24)\n",
    "\n",
    "grid = GridSearchCV(dt, param_grid, cv=5, scoring=\"neg_mean_squared_error\")\n",
    "\n",
    "grid.fit(X_train,y_train)\n"
   ]
  },
  {
   "cell_type": "code",
   "execution_count": 30,
   "metadata": {},
   "outputs": [
    {
     "name": "stdout",
     "output_type": "stream",
     "text": [
      "Best RMSE score is  2.565075495067599\n"
     ]
    },
    {
     "data": {
      "text/plain": [
       "DecisionTreeRegressor(max_features=6, min_samples_leaf=0.12, random_state=24)"
      ]
     },
     "execution_count": 30,
     "metadata": {},
     "output_type": "execute_result"
    }
   ],
   "source": [
    "print(\"Best RMSE score is \",np.sqrt(-grid.best_score_))\n",
    "grid.best_estimator_"
   ]
  },
  {
   "cell_type": "markdown",
   "metadata": {},
   "source": [
    "# Q. 4.\n",
    "Create a random forest model tuned to the best of your abilities. Explain how you tuned it"
   ]
  },
  {
   "cell_type": "code",
   "execution_count": 31,
   "metadata": {},
   "outputs": [
    {
     "data": {
      "text/plain": [
       "GridSearchCV(cv=5, estimator=RandomForestRegressor(random_state=24),\n",
       "             param_grid={'bootstrap': [True, False],\n",
       "                         'max_features': [2, 4, 6, 7],\n",
       "                         'n_estimators': [100, 300, 500]},\n",
       "             scoring='neg_mean_squared_error')"
      ]
     },
     "execution_count": 31,
     "metadata": {},
     "output_type": "execute_result"
    }
   ],
   "source": [
    "param_grid = {'n_estimators': [100, 300, 500], 'max_features': [2, 4, 6, 7], 'bootstrap': [True,False]}\n",
    "\n",
    "forest = RandomForestRegressor(random_state=24)\n",
    "gridF = GridSearchCV(forest, param_grid, cv=5, scoring=\"neg_mean_squared_error\")\n",
    "gridF.fit(X_train, y_train)\n",
    "\n",
    "#this model ran very slow and took some time to give answers"
   ]
  },
  {
   "cell_type": "code",
   "execution_count": 32,
   "metadata": {},
   "outputs": [
    {
     "name": "stdout",
     "output_type": "stream",
     "text": [
      "Best RMSE score is  2.165444537289049\n"
     ]
    },
    {
     "data": {
      "text/plain": [
       "{'bootstrap': True, 'max_features': 2, 'n_estimators': 300}"
      ]
     },
     "execution_count": 32,
     "metadata": {},
     "output_type": "execute_result"
    }
   ],
   "source": [
    "print(\"Best RMSE score is \",np.sqrt(-gridF.best_score_))\n",
    "gridF.best_params_"
   ]
  },
  {
   "cell_type": "markdown",
   "metadata": {},
   "source": [
    "# Q. 5.\n",
    "Create an xgboost model tuned to the best of your abilities. Explain how you tuned it.  "
   ]
  },
  {
   "cell_type": "code",
   "execution_count": 33,
   "metadata": {},
   "outputs": [
    {
     "data": {
      "text/plain": [
       "GridSearchCV(cv=5,\n",
       "             estimator=XGBRegressor(base_score=None, booster=None,\n",
       "                                    colsample_bylevel=None,\n",
       "                                    colsample_bynode=None,\n",
       "                                    colsample_bytree=None,\n",
       "                                    enable_categorical=False, gamma=None,\n",
       "                                    gpu_id=None, importance_type=None,\n",
       "                                    interaction_constraints=None,\n",
       "                                    learning_rate=None, max_delta_step=None,\n",
       "                                    max_depth=None, min_child_weight=None,\n",
       "                                    missing=nan, monotone_constraints=None,\n",
       "                                    n...\n",
       "                                    random_state=24, reg_alpha=None,\n",
       "                                    reg_lambda=None, scale_pos_weight=None,\n",
       "                                    subsample=None, tree_method=None,\n",
       "                                    validate_parameters=None, verbosity=None),\n",
       "             param_grid={'booster': ['gbtree'], 'colsample_bytree': [0.8],\n",
       "                         'learning_rate': [0.03, 0.05, 0.07],\n",
       "                         'max_depth': [6, 8, 10, 12],\n",
       "                         'n_estimators': [100, 300, 500],\n",
       "                         'objective': ['reg:squarederror']},\n",
       "             scoring='neg_mean_squared_error')"
      ]
     },
     "execution_count": 33,
     "metadata": {},
     "output_type": "execute_result"
    }
   ],
   "source": [
    "xgbr = XGBRegressor(random_state=24)\n",
    "\n",
    "param_grid = {'objective':['reg:squarederror'], 'booster':['gbtree'],\n",
    "              'learning_rate': [.03, 0.05, .07], 'n_estimators': [100,300,500],\n",
    "             'colsample_bytree':[0.8], 'max_depth':[6,8,10,12]}\n",
    "\n",
    "gridX = GridSearchCV(xgbr, param_grid, cv=5, scoring=\"neg_mean_squared_error\")\n",
    "gridX.fit(X_train, y_train)\n",
    "#this took half as much time as previous model, so definitely better timewise"
   ]
  },
  {
   "cell_type": "code",
   "execution_count": 34,
   "metadata": {},
   "outputs": [
    {
     "name": "stdout",
     "output_type": "stream",
     "text": [
      "Best RMSE score is  2.188869893006753\n"
     ]
    },
    {
     "data": {
      "text/plain": [
       "{'booster': 'gbtree',\n",
       " 'colsample_bytree': 0.8,\n",
       " 'learning_rate': 0.05,\n",
       " 'max_depth': 6,\n",
       " 'n_estimators': 100,\n",
       " 'objective': 'reg:squarederror'}"
      ]
     },
     "execution_count": 34,
     "metadata": {},
     "output_type": "execute_result"
    }
   ],
   "source": [
    "print(\"Best RMSE score is \",np.sqrt(-gridX.best_score_))\n",
    "gridX.best_params_"
   ]
  },
  {
   "cell_type": "markdown",
   "metadata": {},
   "source": [
    "# Q. 6\n",
    "Which model performed best? What is your performance metric? Why?  "
   ]
  },
  {
   "cell_type": "code",
   "execution_count": 35,
   "metadata": {},
   "outputs": [
    {
     "data": {
      "text/plain": [
       "2.2085635395281376"
      ]
     },
     "execution_count": 35,
     "metadata": {},
     "output_type": "execute_result"
    }
   ],
   "source": [
    "final_model = gridX.best_estimator_\n",
    "y_pred = final_model.predict(X_test)\n",
    "\n",
    "\n",
    "mse = mean_squared_error(y_test, y_pred)\n",
    "\n",
    "rmse = np.sqrt(mse)\n",
    "rmse"
   ]
  },
  {
   "cell_type": "markdown",
   "metadata": {},
   "source": [
    "Of all the models XGBoost performed the best. This is probably because gradient boosting feature helped us get the best possible model.\n",
    "\n",
    "The performance metric used here is Root Mean Squared Error. This was used as the Abalone data set's target variable is continuous data and not a categorical one. Hence it makes more sense to take RMSE, which is the difference between the actual and the predicted data, as a metric to evaluate the model.\n"
   ]
  }
 ],
 "metadata": {
  "interpreter": {
   "hash": "f4fde45515710cbe4f4cf44a8ddef1b298277709bd6c5462499553af68a98f2e"
  },
  "kernelspec": {
   "display_name": "Python 3.9.7 64-bit",
   "language": "python",
   "name": "python3"
  },
  "language_info": {
   "codemirror_mode": {
    "name": "ipython",
    "version": 3
   },
   "file_extension": ".py",
   "mimetype": "text/x-python",
   "name": "python",
   "nbconvert_exporter": "python",
   "pygments_lexer": "ipython3",
   "version": "3.9.7"
  },
  "orig_nbformat": 4
 },
 "nbformat": 4,
 "nbformat_minor": 2
}
